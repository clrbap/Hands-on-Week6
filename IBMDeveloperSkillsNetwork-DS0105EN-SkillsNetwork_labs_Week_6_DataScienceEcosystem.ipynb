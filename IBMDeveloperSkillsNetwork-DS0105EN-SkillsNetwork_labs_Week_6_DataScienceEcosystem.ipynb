{
  "metadata": {
    "toc-showtags": false,
    "language_info": {
      "codemirror_mode": {
        "name": "python",
        "version": 3
      },
      "file_extension": ".py",
      "mimetype": "text/x-python",
      "name": "python",
      "nbconvert_exporter": "python",
      "pygments_lexer": "ipython3",
      "version": "3.8"
    },
    "kernelspec": {
      "name": "python",
      "display_name": "Python (Pyodide)",
      "language": "python"
    }
  },
  "nbformat_minor": 4,
  "nbformat": 4,
  "cells": [
    {
      "cell_type": "markdown",
      "source": "<H1> \n    Data Science Tools and Ecosystem \n</H1>",
      "metadata": {}
    },
    {
      "cell_type": "markdown",
      "source": "<H1> \n    Data Science Tools and Ecosystem \n</H1>",
      "metadata": {}
    },
    {
      "cell_type": "markdown",
      "source": "<h0> \n    In this notebook, Data Science Tools and Ecosystem are summarized. \n</h0>",
      "metadata": {}
    },
    {
      "cell_type": "markdown",
      "source": "**Objectives:**",
      "metadata": {}
    },
    {
      "cell_type": "code",
      "source": "topics = ['List popular languages for Data Science','Describe the relevant features of open-source tools.',\n          'Identify the criteria and roles for determining the language to learn.',\n          'Describe how to use a learning model to solve a problem.',\n          'Describe R capabilities and RStudio environment']\nprint(topics)",
      "metadata": {
        "trusted": true
      },
      "execution_count": 33,
      "outputs": [
        {
          "name": "stdout",
          "text": "['List popular languages for Data Science', 'Describe the relevant features of open-source tools.', 'Identify the criteria and roles for determining the language to learn.', 'Describe how to use a learning model to solve a problem.', 'Describe R capabilities and RStudio environment']\n",
          "output_type": "stream"
        }
      ]
    },
    {
      "cell_type": "markdown",
      "source": "<h0>\n    Some of the popular languages that Data Scientists use are.\n</h0>",
      "metadata": {
        "tags": []
      }
    },
    {
      "cell_type": "markdown",
      "source": "<h0>\n    Some of the popular languages that Data Scientists use are.\n</h0>",
      "metadata": {}
    },
    {
      "cell_type": "code",
      "source": "languages = ['R','Python','Julia','Scala','C']\nlanguages.sort()\nprint(languages)",
      "metadata": {
        "trusted": true
      },
      "execution_count": 8,
      "outputs": [
        {
          "name": "stdout",
          "text": "['C', 'Julia', 'Python', 'R', 'Scala']\n",
          "output_type": "stream"
        }
      ]
    },
    {
      "cell_type": "markdown",
      "source": "<h0>\n    Some of the commonly used libraries used by Data Scientists include.\n</h0>",
      "metadata": {}
    },
    {
      "cell_type": "code",
      "source": "libraries = ['Matplotlib','NumPy','Pandas','Caret']\nlibraries.sort()\nprint(libraries)",
      "metadata": {
        "trusted": true
      },
      "execution_count": 11,
      "outputs": [
        {
          "name": "stdout",
          "text": "['Caret', 'Matplotlib', 'NumPy', 'Pandas']\n",
          "output_type": "stream"
        }
      ]
    },
    {
      "cell_type": "code",
      "source": "tabela = {\"Data Science Tools\":\n          [\"Jupyter Notebook\",\"RStudio\",\"Visual Studio Code\"]\n         }\ndf = pd.DataFrame(tabela)\n\nprint(df)",
      "metadata": {
        "trusted": true
      },
      "execution_count": 22,
      "outputs": [
        {
          "name": "stdout",
          "text": "   Data Science Tools\n0    Jupyter Notebook\n1             RStudio\n2  Visual Studio Code\n",
          "output_type": "stream"
        }
      ]
    },
    {
      "cell_type": "markdown",
      "source": "<H3>\n    Below are a few examples of evaluating arithmetic expressions in Python\n</H3>",
      "metadata": {}
    },
    {
      "cell_type": "code",
      "source": "# This a simple arithmetic expression to mutiply then add integers\n(3*4) + 5",
      "metadata": {
        "trusted": true
      },
      "execution_count": 28,
      "outputs": [
        {
          "execution_count": 28,
          "output_type": "execute_result",
          "data": {
            "text/plain": "17"
          },
          "metadata": {}
        }
      ]
    },
    {
      "cell_type": "code",
      "source": "# This will convert 200 minutes to hours by diving by 60\n(200/60)\n",
      "metadata": {
        "trusted": true
      },
      "execution_count": 29,
      "outputs": [
        {
          "execution_count": 29,
          "output_type": "execute_result",
          "data": {
            "text/plain": "3.3333333333333335"
          },
          "metadata": {}
        }
      ]
    },
    {
      "cell_type": "markdown",
      "source": "<H2>\n    Author\n</H2>\nCláudio Rogério Baptista",
      "metadata": {}
    }
  ]
}